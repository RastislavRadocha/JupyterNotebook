{
 "cells": [
  {
   "cell_type": "code",
   "execution_count": 1,
   "id": "05f17d04-1886-4520-bea4-7bc7788eaadd",
   "metadata": {},
   "outputs": [],
   "source": [
    "import pandas as pd"
   ]
  },
  {
   "cell_type": "code",
   "execution_count": 2,
   "id": "7edde419-52f8-4c32-916a-09f6d7699e6a",
   "metadata": {},
   "outputs": [
    {
     "data": {
      "text/plain": [
       "0                     Elon Musk\n",
       "1                    Jeff Bezos\n",
       "2      Bernard Arnault & family\n",
       "3                    Bill Gates\n",
       "4                Warren Buffett\n",
       "                 ...           \n",
       "96             Vladimir Potanin\n",
       "97         Harold Hamm & family\n",
       "98                 Sun Piaoyang\n",
       "99           Luo Liguo & family\n",
       "100                   Peter Woo\n",
       "Name: Name, Length: 101, dtype: object"
      ]
     },
     "execution_count": 2,
     "metadata": {},
     "output_type": "execute_result"
    }
   ],
   "source": [
    "richest = pd.read_csv('TopRichestInWorld.csv', usecols=['Name']).squeeze()\n",
    "richest"
   ]
  },
  {
   "cell_type": "markdown",
   "id": "e25cf6c4-0e49-4556-b66c-753968ca8c07",
   "metadata": {},
   "source": [
    "# with default the .head() will give us back first 5 elements, but we can specify how many elements we actually want \n",
    "# for example .head(10)"
   ]
  },
  {
   "cell_type": "code",
   "execution_count": 3,
   "id": "e47b5bf6-4c07-4156-ae8f-b2f02cbd00c0",
   "metadata": {},
   "outputs": [
    {
     "data": {
      "text/plain": [
       "0                   Elon Musk\n",
       "1                  Jeff Bezos\n",
       "2    Bernard Arnault & family\n",
       "3                  Bill Gates\n",
       "4              Warren Buffett\n",
       "5                  Larry Page\n",
       "6                 Sergey Brin\n",
       "7               Larry Ellison\n",
       "8               Steve Ballmer\n",
       "9               Mukesh Ambani\n",
       "Name: Name, dtype: object"
      ]
     },
     "execution_count": 3,
     "metadata": {},
     "output_type": "execute_result"
    }
   ],
   "source": [
    "richest.head(10)"
   ]
  },
  {
   "cell_type": "code",
   "execution_count": 4,
   "id": "7165c0b7-3aba-4897-92eb-46eb7e6eb4b3",
   "metadata": {},
   "outputs": [
    {
     "data": {
      "text/plain": [
       "0                    Elon Musk\n",
       "1                   Jeff Bezos\n",
       "2     Bernard Arnault & family\n",
       "3                   Bill Gates\n",
       "4               Warren Buffett\n",
       "                ...           \n",
       "86              Vladimir Lisin\n",
       "87        Fan Hongwei & family\n",
       "88              Lakshmi Mittal\n",
       "89              Andrew Forrest\n",
       "90     Jiang Rensheng & family\n",
       "Name: Name, Length: 91, dtype: object"
      ]
     },
     "execution_count": 4,
     "metadata": {},
     "output_type": "execute_result"
    }
   ],
   "source": [
    "richest.head(-10) # when we use negative numbers it will exclude the last specified amount of rows"
   ]
  },
  {
   "cell_type": "markdown",
   "id": "457c9222-8a07-4263-b2c8-42f2e8b9661f",
   "metadata": {},
   "source": [
    "# .tail() does the opposite of the head, meaning it will get us data from the end of our database"
   ]
  },
  {
   "cell_type": "code",
   "execution_count": 5,
   "id": "afc0d22b-5605-4c99-bd12-bf87872db664",
   "metadata": {},
   "outputs": [
    {
     "data": {
      "text/plain": [
       "91     Savitri Jindal & family\n",
       "92                 Wang Wenyin\n",
       "93                   Li Xiting\n",
       "94              Stefan Persson\n",
       "95                 Steve Cohen\n",
       "96            Vladimir Potanin\n",
       "97        Harold Hamm & family\n",
       "98                Sun Piaoyang\n",
       "99          Luo Liguo & family\n",
       "100                  Peter Woo\n",
       "Name: Name, dtype: object"
      ]
     },
     "execution_count": 5,
     "metadata": {},
     "output_type": "execute_result"
    }
   ],
   "source": [
    "richest.tail(10)"
   ]
  },
  {
   "cell_type": "code",
   "execution_count": 6,
   "id": "9b2545d6-590d-4032-a3ac-d049d38c6ae9",
   "metadata": {},
   "outputs": [
    {
     "data": {
      "text/plain": [
       "10                     Gautam Adani & family\n",
       "11                         Michael Bloomberg\n",
       "12                 Carlos Slim Helu & family\n",
       "13     Francoise Bettencourt Meyers & family\n",
       "14                           Mark Zuckerberg\n",
       "                       ...                  \n",
       "96                          Vladimir Potanin\n",
       "97                      Harold Hamm & family\n",
       "98                              Sun Piaoyang\n",
       "99                        Luo Liguo & family\n",
       "100                                Peter Woo\n",
       "Name: Name, Length: 91, dtype: object"
      ]
     },
     "execution_count": 6,
     "metadata": {},
     "output_type": "execute_result"
    }
   ],
   "source": [
    "richest.tail(-10) # using negative will exclude the first specified amount of elements"
   ]
  },
  {
   "cell_type": "code",
   "execution_count": 7,
   "id": "e0688bb3-3d83-455e-afc7-a673d469c8c3",
   "metadata": {},
   "outputs": [
    {
     "data": {
      "text/plain": [
       "0           Abigail Johnson\n",
       "1          Alain Wertheimer\n",
       "2              Alice Walton\n",
       "3            Amancio Ortega\n",
       "4            Andrew Forrest\n",
       "               ...         \n",
       "96           Warren Buffett\n",
       "97         William Lei Ding\n",
       "98     Yang Huiyan & family\n",
       "99             Zhang Yiming\n",
       "100          Zhong Shanshan\n",
       "Name: Name, Length: 101, dtype: object"
      ]
     },
     "execution_count": 7,
     "metadata": {},
     "output_type": "execute_result"
    }
   ],
   "source": [
    "richest_copy = richest.sort_values(\n",
    "                    axis=0, \n",
    "                    ascending=True,\n",
    "                    kind='quicksort',\n",
    "                    na_position='last',\n",
    "                    ignore_index=True)\n",
    "richest_copy"
   ]
  },
  {
   "cell_type": "code",
   "execution_count": 8,
   "id": "33ae8205-6617-4a5b-badf-7ce6c49ffb29",
   "metadata": {},
   "outputs": [
    {
     "data": {
      "text/plain": [
       "100                   Peter Woo\n",
       "99           Luo Liguo & family\n",
       "98                 Sun Piaoyang\n",
       "97         Harold Hamm & family\n",
       "96             Vladimir Potanin\n",
       "                 ...           \n",
       "4                Warren Buffett\n",
       "3                    Bill Gates\n",
       "2      Bernard Arnault & family\n",
       "1                    Jeff Bezos\n",
       "0                     Elon Musk\n",
       "Name: Name, Length: 101, dtype: object"
      ]
     },
     "execution_count": 8,
     "metadata": {},
     "output_type": "execute_result"
    }
   ],
   "source": [
    "richest.sort_index(ascending=False)"
   ]
  }
 ],
 "metadata": {
  "kernelspec": {
   "display_name": "Python 3 (ipykernel)",
   "language": "python",
   "name": "python3"
  },
  "language_info": {
   "codemirror_mode": {
    "name": "ipython",
    "version": 3
   },
   "file_extension": ".py",
   "mimetype": "text/x-python",
   "name": "python",
   "nbconvert_exporter": "python",
   "pygments_lexer": "ipython3",
   "version": "3.12.4"
  }
 },
 "nbformat": 4,
 "nbformat_minor": 5
}
