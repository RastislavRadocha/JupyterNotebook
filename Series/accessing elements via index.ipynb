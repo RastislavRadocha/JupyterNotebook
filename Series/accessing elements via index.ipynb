{
 "cells": [
  {
   "cell_type": "code",
   "execution_count": 1,
   "id": "ef6d7a7b-2c40-4c10-b2aa-4970d6a0f913",
   "metadata": {},
   "outputs": [],
   "source": [
    "import pandas as pd"
   ]
  },
  {
   "cell_type": "code",
   "execution_count": 9,
   "id": "a8e7c358-4b18-41cb-a243-f730cf173587",
   "metadata": {},
   "outputs": [
    {
     "data": {
      "text/plain": [
       "Name\n",
       "Elon Musk                   $219,000,000,000\n",
       "Jeff Bezos                  $171,000,000,000\n",
       "Bernard Arnault & family    $158,000,000,000\n",
       "Bill Gates                  $129,000,000,000\n",
       "Warren Buffett              $118,000,000,000\n",
       "                                  ...       \n",
       "Vladimir Potanin             $17,300,000,000\n",
       "Harold Hamm & family         $17,200,000,000\n",
       "Sun Piaoyang                 $17,100,000,000\n",
       "Luo Liguo & family           $17,000,000,000\n",
       "Peter Woo                    $17,000,000,000\n",
       "Name: NetWorth, Length: 101, dtype: object"
      ]
     },
     "execution_count": 9,
     "metadata": {},
     "output_type": "execute_result"
    }
   ],
   "source": [
    "richest=pd.read_csv('TopRichestInWorld.csv', usecols=['Name','NetWorth'], index_col='Name').squeeze()\n",
    "richest"
   ]
  },
  {
   "cell_type": "code",
   "execution_count": 3,
   "id": "0b6aef71-f337-4cea-b13f-db8e20933580",
   "metadata": {},
   "outputs": [
    {
     "data": {
      "text/plain": [
       "Name\n",
       "Elon Musk                   $219,000,000,000\n",
       "Jeff Bezos                  $171,000,000,000\n",
       "Bernard Arnault & family    $158,000,000,000\n",
       "Bill Gates                  $129,000,000,000\n",
       "Warren Buffett              $118,000,000,000\n",
       "Larry Page                  $111,000,000,000\n",
       "Sergey Brin                 $107,000,000,000\n",
       "Larry Ellison               $106,000,000,000\n",
       "Steve Ballmer                $91,400,000,000\n",
       "Mukesh Ambani                $90,700,000,000\n",
       "Name: NetWorth, dtype: object"
      ]
     },
     "execution_count": 3,
     "metadata": {},
     "output_type": "execute_result"
    }
   ],
   "source": [
    "richest.head(10)"
   ]
  },
  {
   "cell_type": "code",
   "execution_count": 14,
   "id": "f7dbff90-a081-4045-87e9-0922c0168f5a",
   "metadata": {},
   "outputs": [
    {
     "name": "stderr",
     "output_type": "stream",
     "text": [
      "C:\\Users\\skill\\AppData\\Local\\Temp\\ipykernel_9420\\3734245380.py:1: FutureWarning: Series.__getitem__ treating keys as positions is deprecated. In a future version, integer keys will always be treated as labels (consistent with DataFrame behavior). To access a value by position, use `ser.iloc[pos]`\n",
      "  richest[0]\n"
     ]
    },
    {
     "data": {
      "text/plain": [
       "'$219,000,000,000'"
      ]
     },
     "execution_count": 14,
     "metadata": {},
     "output_type": "execute_result"
    }
   ],
   "source": [
    "richest[0]"
   ]
  },
  {
   "cell_type": "code",
   "execution_count": 14,
   "id": "1440d089-6848-447f-aa5f-002f8a801e33",
   "metadata": {},
   "outputs": [
    {
     "data": {
      "text/plain": [
       "'$129,000,000,000'"
      ]
     },
     "execution_count": 14,
     "metadata": {},
     "output_type": "execute_result"
    }
   ],
   "source": [
    "richest['Bill Gates']"
   ]
  },
  {
   "cell_type": "code",
   "execution_count": 10,
   "id": "e045a818-a135-4b88-94ac-97850f2f41f3",
   "metadata": {},
   "outputs": [
    {
     "data": {
      "text/plain": [
       "Name\n",
       "Bill Gates        $129,000,000,000\n",
       "Warren Buffett    $118,000,000,000\n",
       "Name: NetWorth, dtype: object"
      ]
     },
     "execution_count": 10,
     "metadata": {},
     "output_type": "execute_result"
    }
   ],
   "source": [
    "richest[['Bill Gates','Warren Buffett']] # will display only specified indexes"
   ]
  },
  {
   "cell_type": "code",
   "execution_count": 20,
   "id": "626920f6-7323-4baf-9b67-3b860cd8f90b",
   "metadata": {},
   "outputs": [
    {
     "data": {
      "text/plain": [
       "Name\n",
       "Bill Gates        $129,000,000,000\n",
       "Warren Buffett    $118,000,000,000\n",
       "Larry Page        $111,000,000,000\n",
       "Sergey Brin       $107,000,000,000\n",
       "Larry Ellison     $106,000,000,000\n",
       "Steve Ballmer      $91,400,000,000\n",
       "Name: NetWorth, dtype: object"
      ]
     },
     "execution_count": 20,
     "metadata": {},
     "output_type": "execute_result"
    }
   ],
   "source": [
    "richest['Bill Gates':'Steve Ballmer'] # will display everything in between specified indexes, including the indexes"
   ]
  },
  {
   "cell_type": "code",
   "execution_count": 12,
   "id": "7bf06299-3093-462b-b037-7ec81d8c7896",
   "metadata": {},
   "outputs": [
    {
     "data": {
      "text/plain": [
       "Name\n",
       "Elon Musk     $219,000,000,000\n",
       "Jeff Bezos    $171,000,000,000\n",
       "Name: NetWorth, dtype: object"
      ]
     },
     "execution_count": 12,
     "metadata": {},
     "output_type": "execute_result"
    }
   ],
   "source": [
    "richest.iloc[0:2]"
   ]
  },
  {
   "cell_type": "code",
   "execution_count": 22,
   "id": "446ee4a2-a0ca-4c6c-99a0-9f2db3beb100",
   "metadata": {},
   "outputs": [
    {
     "data": {
      "text/plain": [
       "Index(['Elon Musk', 'Jeff Bezos', 'Bernard Arnault & family', 'Bill Gates',\n",
       "       'Warren Buffett', 'Larry Page', 'Sergey Brin', 'Larry Ellison',\n",
       "       'Steve Ballmer', 'Mukesh Ambani',\n",
       "       ...\n",
       "       'Savitri Jindal & family', 'Wang Wenyin', 'Li Xiting', 'Stefan Persson',\n",
       "       'Steve Cohen', 'Vladimir Potanin', 'Harold Hamm & family',\n",
       "       'Sun Piaoyang', 'Luo Liguo & family', 'Peter Woo'],\n",
       "      dtype='object', name='Name', length=101)"
      ]
     },
     "execution_count": 22,
     "metadata": {},
     "output_type": "execute_result"
    }
   ],
   "source": [
    "richest.index"
   ]
  },
  {
   "cell_type": "code",
   "execution_count": null,
   "id": "819d9cb5-294a-4ebb-bae6-57dbffd87aa7",
   "metadata": {},
   "outputs": [],
   "source": []
  }
 ],
 "metadata": {
  "kernelspec": {
   "display_name": "Python 3 (ipykernel)",
   "language": "python",
   "name": "python3"
  },
  "language_info": {
   "codemirror_mode": {
    "name": "ipython",
    "version": 3
   },
   "file_extension": ".py",
   "mimetype": "text/x-python",
   "name": "python",
   "nbconvert_exporter": "python",
   "pygments_lexer": "ipython3",
   "version": "3.12.4"
  }
 },
 "nbformat": 4,
 "nbformat_minor": 5
}
