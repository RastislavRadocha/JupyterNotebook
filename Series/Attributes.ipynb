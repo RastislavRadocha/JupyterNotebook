{
 "cells": [
  {
   "cell_type": "code",
   "execution_count": 2,
   "id": "9dfc8027-9ed5-44c2-8769-abab85688143",
   "metadata": {},
   "outputs": [],
   "source": [
    "import pandas as pd"
   ]
  },
  {
   "cell_type": "code",
   "execution_count": 3,
   "id": "a570382d-5c1a-4944-acc8-5babb6e336e3",
   "metadata": {},
   "outputs": [],
   "source": [
    "numbers = [1, 2, 3, 4, 5]\n",
    "letters = ['a', 'b','c','d','e'] # Objects"
   ]
  },
  {
   "cell_type": "code",
   "execution_count": 4,
   "id": "e5b22215-2176-4fd7-ad05-c7d1eb4216bf",
   "metadata": {},
   "outputs": [
    {
     "data": {
      "text/plain": [
       "0    1\n",
       "1    2\n",
       "2    3\n",
       "3    4\n",
       "4    5\n",
       "dtype: int64"
      ]
     },
     "execution_count": 4,
     "metadata": {},
     "output_type": "execute_result"
    }
   ],
   "source": [
    "number_series = pd.Series(numbers)\n",
    "number_series"
   ]
  },
  {
   "cell_type": "code",
   "execution_count": 5,
   "id": "022765a5-ee11-410d-8ca5-2a074707c4fd",
   "metadata": {},
   "outputs": [
    {
     "data": {
      "text/plain": [
       "0    a\n",
       "1    b\n",
       "2    c\n",
       "3    d\n",
       "4    e\n",
       "dtype: object"
      ]
     },
     "execution_count": 5,
     "metadata": {},
     "output_type": "execute_result"
    }
   ],
   "source": [
    "letter_series = pd.Series(letters)\n",
    "letter_series"
   ]
  },
  {
   "cell_type": "markdown",
   "id": "5d69ae35-aa97-4136-9a1a-c15af18ce100",
   "metadata": {},
   "source": [
    "# dtype returns the type of the Series"
   ]
  },
  {
   "cell_type": "code",
   "execution_count": 9,
   "id": "bdb2743e-9333-4c2b-9628-3ca520ee0800",
   "metadata": {},
   "outputs": [
    {
     "data": {
      "text/plain": [
       "dtype('int64')"
      ]
     },
     "execution_count": 9,
     "metadata": {},
     "output_type": "execute_result"
    }
   ],
   "source": [
    "number_series.dtype # will return integer type"
   ]
  },
  {
   "cell_type": "code",
   "execution_count": 10,
   "id": "bdfe9ec2-aa3c-475a-884f-a7c0f29d91d4",
   "metadata": {},
   "outputs": [
    {
     "data": {
      "text/plain": [
       "dtype('O')"
      ]
     },
     "execution_count": 10,
     "metadata": {},
     "output_type": "execute_result"
    }
   ],
   "source": [
    "letter_series.dtype # will return '0' which stands for Object"
   ]
  },
  {
   "cell_type": "markdown",
   "id": "ac73de12-ffd0-4afa-bf26-1b6d7c04d2b3",
   "metadata": {},
   "source": [
    "# .values returns the Series as an array"
   ]
  },
  {
   "cell_type": "code",
   "execution_count": 16,
   "id": "36e783a9-20cd-4ee5-8a45-5493a1c89e58",
   "metadata": {},
   "outputs": [
    {
     "data": {
      "text/plain": [
       "array(['a', 'b', 'c', 'd', 'e'], dtype=object)"
      ]
     },
     "execution_count": 16,
     "metadata": {},
     "output_type": "execute_result"
    }
   ],
   "source": [
    "letter_series.values"
   ]
  },
  {
   "cell_type": "code",
   "execution_count": 17,
   "id": "ed75bd99-3c46-4cab-a42b-d087af37905f",
   "metadata": {},
   "outputs": [
    {
     "data": {
      "text/plain": [
       "RangeIndex(start=0, stop=5, step=1)"
      ]
     },
     "execution_count": 17,
     "metadata": {},
     "output_type": "execute_result"
    }
   ],
   "source": [
    "number_series.index"
   ]
  },
  {
   "cell_type": "markdown",
   "id": "f9a7455f-7bda-4f6a-913a-4b96e6f42471",
   "metadata": {},
   "source": [
    "# .hasnans will check whether a series has missing values (or NaNs)"
   ]
  },
  {
   "cell_type": "code",
   "execution_count": 19,
   "id": "14de5a2a-da39-4d66-b215-f317a638dff3",
   "metadata": {},
   "outputs": [
    {
     "data": {
      "text/plain": [
       "1       a\n",
       "2       b\n",
       "3    None\n",
       "dtype: object"
      ]
     },
     "execution_count": 19,
     "metadata": {},
     "output_type": "execute_result"
    }
   ],
   "source": [
    "incomplete_series = pd.Series(data=['a','b', None], index=[1,2,3])\n",
    "incomplete_series"
   ]
  },
  {
   "cell_type": "code",
   "execution_count": 20,
   "id": "8519f37c-8970-4d68-9e7e-521a547658a7",
   "metadata": {},
   "outputs": [
    {
     "data": {
      "text/plain": [
       "True"
      ]
     },
     "execution_count": 20,
     "metadata": {},
     "output_type": "execute_result"
    }
   ],
   "source": [
    "incomplete_series.hasnans"
   ]
  },
  {
   "cell_type": "markdown",
   "id": "22aa12a0-5ac4-4832-84e4-90b7f489440e",
   "metadata": {},
   "source": [
    "# .shape returns the shape of a series as a tuple(5 lines and 1 column)\n",
    "- Usually used with DataFrames"
   ]
  },
  {
   "cell_type": "code",
   "execution_count": 21,
   "id": "2f360a7b-410c-48d2-9ffe-6f752aa588eb",
   "metadata": {},
   "outputs": [
    {
     "data": {
      "text/plain": [
       "(5,)"
      ]
     },
     "execution_count": 21,
     "metadata": {},
     "output_type": "execute_result"
    }
   ],
   "source": [
    "number_series.shape"
   ]
  },
  {
   "cell_type": "code",
   "execution_count": 22,
   "id": "b5df059c-3cea-4582-ad13-3dff2a42e2cd",
   "metadata": {},
   "outputs": [
    {
     "data": {
      "text/plain": [
       "5"
      ]
     },
     "execution_count": 22,
     "metadata": {},
     "output_type": "execute_result"
    }
   ],
   "source": [
    "number_series.size"
   ]
  },
  {
   "cell_type": "code",
   "execution_count": null,
   "id": "0355bdae-b09f-4b41-adb3-119045469014",
   "metadata": {},
   "outputs": [],
   "source": []
  }
 ],
 "metadata": {
  "kernelspec": {
   "display_name": "Python 3 (ipykernel)",
   "language": "python",
   "name": "python3"
  },
  "language_info": {
   "codemirror_mode": {
    "name": "ipython",
    "version": 3
   },
   "file_extension": ".py",
   "mimetype": "text/x-python",
   "name": "python",
   "nbconvert_exporter": "python",
   "pygments_lexer": "ipython3",
   "version": "3.12.4"
  }
 },
 "nbformat": 4,
 "nbformat_minor": 5
}
