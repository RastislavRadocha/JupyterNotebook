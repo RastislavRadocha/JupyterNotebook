{
 "cells": [
  {
   "cell_type": "code",
   "execution_count": null,
   "id": "c336d761-0633-46c1-87c9-26f9648a48c5",
   "metadata": {},
   "outputs": [],
   "source": []
  },
  {
   "cell_type": "code",
   "execution_count": 1,
   "id": "1d4228f2-7358-4e21-a0b5-869490bd0123",
   "metadata": {},
   "outputs": [
    {
     "name": "stdout",
     "output_type": "stream",
     "text": [
      "2.2.2\n"
     ]
    }
   ],
   "source": [
    "import pandas as pd\n",
    "print(pd.__version__)"
   ]
  },
  {
   "cell_type": "code",
   "execution_count": 2,
   "id": "0798f407-ab31-4482-a04b-87feb43cc11c",
   "metadata": {},
   "outputs": [
    {
     "data": {
      "text/html": [
       "<div>\n",
       "<style scoped>\n",
       "    .dataframe tbody tr th:only-of-type {\n",
       "        vertical-align: middle;\n",
       "    }\n",
       "\n",
       "    .dataframe tbody tr th {\n",
       "        vertical-align: top;\n",
       "    }\n",
       "\n",
       "    .dataframe thead th {\n",
       "        text-align: right;\n",
       "    }\n",
       "</style>\n",
       "<table border=\"1\" class=\"dataframe\">\n",
       "  <thead>\n",
       "    <tr style=\"text-align: right;\">\n",
       "      <th></th>\n",
       "      <th>Industry</th>\n",
       "    </tr>\n",
       "  </thead>\n",
       "  <tbody>\n",
       "    <tr>\n",
       "      <th>0</th>\n",
       "      <td>Automotive</td>\n",
       "    </tr>\n",
       "    <tr>\n",
       "      <th>1</th>\n",
       "      <td>Technology</td>\n",
       "    </tr>\n",
       "    <tr>\n",
       "      <th>2</th>\n",
       "      <td>Fashion &amp; Retail</td>\n",
       "    </tr>\n",
       "    <tr>\n",
       "      <th>3</th>\n",
       "      <td>Technology</td>\n",
       "    </tr>\n",
       "    <tr>\n",
       "      <th>4</th>\n",
       "      <td>Finance &amp; Investments</td>\n",
       "    </tr>\n",
       "    <tr>\n",
       "      <th>...</th>\n",
       "      <td>...</td>\n",
       "    </tr>\n",
       "    <tr>\n",
       "      <th>96</th>\n",
       "      <td>Metals &amp; Mining</td>\n",
       "    </tr>\n",
       "    <tr>\n",
       "      <th>97</th>\n",
       "      <td>Energy</td>\n",
       "    </tr>\n",
       "    <tr>\n",
       "      <th>98</th>\n",
       "      <td>Healthcare</td>\n",
       "    </tr>\n",
       "    <tr>\n",
       "      <th>99</th>\n",
       "      <td>Manufacturing</td>\n",
       "    </tr>\n",
       "    <tr>\n",
       "      <th>100</th>\n",
       "      <td>Real Estate</td>\n",
       "    </tr>\n",
       "  </tbody>\n",
       "</table>\n",
       "<p>101 rows × 1 columns</p>\n",
       "</div>"
      ],
      "text/plain": [
       "                  Industry\n",
       "0               Automotive\n",
       "1               Technology\n",
       "2         Fashion & Retail\n",
       "3               Technology\n",
       "4    Finance & Investments\n",
       "..                     ...\n",
       "96         Metals & Mining\n",
       "97                  Energy\n",
       "98              Healthcare\n",
       "99           Manufacturing\n",
       "100            Real Estate\n",
       "\n",
       "[101 rows x 1 columns]"
      ]
     },
     "execution_count": 2,
     "metadata": {},
     "output_type": "execute_result"
    }
   ],
   "source": [
    "richest = pd.read_csv('TopRichestInWorld.csv', usecols=['Industry'])\n",
    "richest"
   ]
  },
  {
   "cell_type": "code",
   "execution_count": 3,
   "id": "ddd91ad5-1c3a-421c-b84b-6bfa2005e679",
   "metadata": {},
   "outputs": [
    {
     "data": {
      "text/plain": [
       "Industry             \n",
       "Automotive                7\n",
       "Diversified               6\n",
       "Energy                    2\n",
       "Fashion & Retail         18\n",
       "Finance & Investments    13\n",
       "Food & Beverage           8\n",
       "Gambling & Casinos        1\n",
       "Healthcare                5\n",
       "Logistics                 2\n",
       "Manufacturing             5\n",
       "Media & Entertainment     4\n",
       "Metals & Mining           9\n",
       "Real Estate               3\n",
       "Service                   1\n",
       "Technology               15\n",
       "Telecom                   2\n",
       "Name: count, dtype: int64"
      ]
     },
     "execution_count": 3,
     "metadata": {},
     "output_type": "execute_result"
    }
   ],
   "source": [
    "richest.value_counts(normalize=False, sort=False)"
   ]
  },
  {
   "cell_type": "code",
   "execution_count": 4,
   "id": "cf04c3ae-a8b3-4225-afec-9058166a6f15",
   "metadata": {},
   "outputs": [
    {
     "data": {
      "text/plain": [
       "0      50\n",
       "1      58\n",
       "2      73\n",
       "3      66\n",
       "4      91\n",
       "       ..\n",
       "96     61\n",
       "97     76\n",
       "98     63\n",
       "99     66\n",
       "100    75\n",
       "Name: Age, Length: 101, dtype: int64"
      ]
     },
     "execution_count": 4,
     "metadata": {},
     "output_type": "execute_result"
    }
   ],
   "source": [
    "richest = pd.read_csv('TopRichestInWorld.csv', usecols=['Age']).squeeze()\n",
    "richest"
   ]
  },
  {
   "cell_type": "code",
   "execution_count": 6,
   "id": "30f690ba-4e0a-4278-9d3f-2731d874c1e7",
   "metadata": {},
   "outputs": [
    {
     "data": {
      "text/plain": [
       "(62.0, 68.4]      18\n",
       "(55.6, 62.0]      15\n",
       "(74.8, 81.2]      15\n",
       "(49.2, 55.6]      14\n",
       "(81.2, 87.6]      14\n",
       "(68.4, 74.8]      12\n",
       "(87.6, 94.0]       5\n",
       "(36.4, 42.8]       4\n",
       "(42.8, 49.2]       3\n",
       "(29.935, 36.4]     1\n",
       "Name: count, dtype: int64"
      ]
     },
     "execution_count": 6,
     "metadata": {},
     "output_type": "execute_result"
    }
   ],
   "source": [
    "richest.value_counts(bins=10) # Bins only works with numerical data"
   ]
  },
  {
   "cell_type": "code",
   "execution_count": null,
   "id": "a1697aa8-0ec5-43af-bfb8-d8a2931e9ea5",
   "metadata": {},
   "outputs": [],
   "source": []
  }
 ],
 "metadata": {
  "kernelspec": {
   "display_name": "Python 3 (ipykernel)",
   "language": "python",
   "name": "python3"
  },
  "language_info": {
   "codemirror_mode": {
    "name": "ipython",
    "version": 3
   },
   "file_extension": ".py",
   "mimetype": "text/x-python",
   "name": "python",
   "nbconvert_exporter": "python",
   "pygments_lexer": "ipython3",
   "version": "3.12.4"
  }
 },
 "nbformat": 4,
 "nbformat_minor": 5
}
