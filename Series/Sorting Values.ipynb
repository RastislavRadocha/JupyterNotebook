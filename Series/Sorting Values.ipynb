{
 "cells": [
  {
   "cell_type": "code",
   "execution_count": 1,
   "id": "837c62fa-1ea8-488a-b906-6b5045f6b7cd",
   "metadata": {},
   "outputs": [],
   "source": [
    "import pandas as pd"
   ]
  },
  {
   "cell_type": "code",
   "execution_count": 2,
   "id": "2310984c-def3-4217-b094-b044a6df5bf5",
   "metadata": {},
   "outputs": [
    {
     "data": {
      "text/plain": [
       "0                     Elon Musk\n",
       "1                    Jeff Bezos\n",
       "2      Bernard Arnault & family\n",
       "3                    Bill Gates\n",
       "4                Warren Buffett\n",
       "                 ...           \n",
       "96             Vladimir Potanin\n",
       "97         Harold Hamm & family\n",
       "98                 Sun Piaoyang\n",
       "99           Luo Liguo & family\n",
       "100                   Peter Woo\n",
       "Name: Name, Length: 101, dtype: object"
      ]
     },
     "execution_count": 2,
     "metadata": {},
     "output_type": "execute_result"
    }
   ],
   "source": [
    "richest = pd.read_csv('TopRichestInWorld.csv', usecols=['Name']).squeeze()\n",
    "richest"
   ]
  },
  {
   "cell_type": "code",
   "execution_count": 3,
   "id": "4b0f3ecf-c0e6-4a36-ad3c-f1d00e58e15c",
   "metadata": {},
   "outputs": [
    {
     "data": {
      "text/plain": [
       "0                     Elon Musk\n",
       "1                    Jeff Bezos\n",
       "2      Bernard Arnault & family\n",
       "3                    Bill Gates\n",
       "4                Warren Buffett\n",
       "                 ...           \n",
       "96             Vladimir Potanin\n",
       "97         Harold Hamm & family\n",
       "98                 Sun Piaoyang\n",
       "99           Luo Liguo & family\n",
       "100                   Peter Woo\n",
       "Name: Name, Length: 101, dtype: object"
      ]
     },
     "execution_count": 3,
     "metadata": {},
     "output_type": "execute_result"
    }
   ],
   "source": [
    "richest.sort_values(axis=0,\n",
    "                    ascending=True,\n",
    "                    inplace=False,\n",
    "                    kind='quicksort',\n",
    "                    na_position='last',\n",
    "                    ignore_index=True)\n",
    "richest"
   ]
  },
  {
   "cell_type": "code",
   "execution_count": 4,
   "id": "97ee6381-1a31-4df5-afb6-06e86b14eafd",
   "metadata": {},
   "outputs": [
    {
     "data": {
      "text/plain": [
       "0                     Peter Woo\n",
       "1            Luo Liguo & family\n",
       "2                  Sun Piaoyang\n",
       "3          Harold Hamm & family\n",
       "4              Vladimir Potanin\n",
       "                 ...           \n",
       "96               Warren Buffett\n",
       "97                   Bill Gates\n",
       "98     Bernard Arnault & family\n",
       "99                   Jeff Bezos\n",
       "100                   Elon Musk\n",
       "Name: Name, Length: 101, dtype: object"
      ]
     },
     "execution_count": 4,
     "metadata": {},
     "output_type": "execute_result"
    }
   ],
   "source": [
    "richest.sort_index(ascending=False,\n",
    "                  ignore_index=True,\n",
    "                  inplace=True)\n",
    "richest"
   ]
  }
 ],
 "metadata": {
  "kernelspec": {
   "display_name": "Python 3 (ipykernel)",
   "language": "python",
   "name": "python3"
  },
  "language_info": {
   "codemirror_mode": {
    "name": "ipython",
    "version": 3
   },
   "file_extension": ".py",
   "mimetype": "text/x-python",
   "name": "python",
   "nbconvert_exporter": "python",
   "pygments_lexer": "ipython3",
   "version": "3.12.4"
  }
 },
 "nbformat": 4,
 "nbformat_minor": 5
}
