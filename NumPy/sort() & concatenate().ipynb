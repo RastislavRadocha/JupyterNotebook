{
 "cells": [
  {
   "cell_type": "code",
   "execution_count": 1,
   "id": "eee7bc8d-66a3-430d-878f-b26128ad80f5",
   "metadata": {},
   "outputs": [],
   "source": [
    "import numpy as np"
   ]
  },
  {
   "cell_type": "code",
   "execution_count": 2,
   "id": "ca14bbbc-a84d-43af-9f1d-bae6f2d9380d",
   "metadata": {},
   "outputs": [
    {
     "data": {
      "text/plain": [
       "array([ 1,  1,  2,  2,  3,  4,  4,  5,  5,  6,  7,  8,  9, 16, 18, 20, 33,\n",
       "       69, 98])"
      ]
     },
     "execution_count": 2,
     "metadata": {},
     "output_type": "execute_result"
    }
   ],
   "source": [
    "np.sort([20,18,16,33,5,1,3,4,2,6,9,8,7,4,1,2,5,69,98])"
   ]
  },
  {
   "cell_type": "code",
   "execution_count": 3,
   "id": "e4a4c1dd-3d51-4a2e-a94a-3339056d8322",
   "metadata": {},
   "outputs": [
    {
     "data": {
      "text/plain": [
       "array([1, 2, 3, 4, 5, 6, 7, 8])"
      ]
     },
     "execution_count": 3,
     "metadata": {},
     "output_type": "execute_result"
    }
   ],
   "source": [
    "arr_a = np.array([1,2,3,4])\n",
    "arr_b = np.array([5,6,7,8])\n",
    "\n",
    "np.concatenate((arr_a, arr_b))"
   ]
  },
  {
   "cell_type": "code",
   "execution_count": 5,
   "id": "12f71200-146f-4de8-b08c-3cf6297afd36",
   "metadata": {},
   "outputs": [
    {
     "data": {
      "text/plain": [
       "array([[1, 2],\n",
       "       [3, 4],\n",
       "       [5, 6],\n",
       "       [7, 8]])"
      ]
     },
     "execution_count": 5,
     "metadata": {},
     "output_type": "execute_result"
    }
   ],
   "source": [
    "arr_a = np.array([[1,2],[3,4]])\n",
    "arr_b = np.array([[5,6],[7,8]])\n",
    "\n",
    "np.concatenate((arr_a, arr_b), axis=0)"
   ]
  },
  {
   "cell_type": "code",
   "execution_count": 6,
   "id": "9f179f8a-56d2-4692-89b8-1519216f2c88",
   "metadata": {},
   "outputs": [
    {
     "data": {
      "text/plain": [
       "array([[1, 2, 5, 6],\n",
       "       [3, 4, 7, 8]])"
      ]
     },
     "execution_count": 6,
     "metadata": {},
     "output_type": "execute_result"
    }
   ],
   "source": [
    "arr_a = np.array([[1,2],[3,4]])\n",
    "arr_b = np.array([[5,6],[7,8]])\n",
    "\n",
    "np.concatenate((arr_a, arr_b), axis=1)"
   ]
  },
  {
   "cell_type": "code",
   "execution_count": null,
   "id": "85642f47-f663-463d-93de-e1718a39c2e3",
   "metadata": {},
   "outputs": [],
   "source": []
  }
 ],
 "metadata": {
  "kernelspec": {
   "display_name": "Python 3.13",
   "language": "python",
   "name": "python313"
  },
  "language_info": {
   "codemirror_mode": {
    "name": "ipython",
    "version": 3
   },
   "file_extension": ".py",
   "mimetype": "text/x-python",
   "name": "python",
   "nbconvert_exporter": "python",
   "pygments_lexer": "ipython3",
   "version": "3.13.0"
  }
 },
 "nbformat": 4,
 "nbformat_minor": 5
}
