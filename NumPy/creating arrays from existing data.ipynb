{
 "cells": [
  {
   "cell_type": "code",
   "execution_count": 1,
   "id": "5e500141-1c1a-4093-bac1-fc362f439cb3",
   "metadata": {},
   "outputs": [],
   "source": [
    "import numpy as np"
   ]
  },
  {
   "cell_type": "code",
   "execution_count": 2,
   "id": "aead2a2a-9ce6-4df0-97a5-0559836509e4",
   "metadata": {},
   "outputs": [
    {
     "data": {
      "text/plain": [
       "array([0, 1, 2, 3, 4, 5, 6, 7, 8, 9])"
      ]
     },
     "execution_count": 2,
     "metadata": {},
     "output_type": "execute_result"
    }
   ],
   "source": [
    "arr = np.arange(10)\n",
    "arr"
   ]
  },
  {
   "cell_type": "code",
   "execution_count": 3,
   "id": "6a63491d-6aa8-4018-80f3-46d97ce1fa83",
   "metadata": {},
   "outputs": [
    {
     "data": {
      "text/plain": [
       "array([3, 4, 5])"
      ]
     },
     "execution_count": 3,
     "metadata": {},
     "output_type": "execute_result"
    }
   ],
   "source": [
    "new_arr = arr[3:6]\n",
    "new_arr"
   ]
  },
  {
   "cell_type": "code",
   "execution_count": 4,
   "id": "e0af508f-5c2b-4bd8-8349-ca2129808f9a",
   "metadata": {},
   "outputs": [
    {
     "name": "stdout",
     "output_type": "stream",
     "text": [
      "arr1: [[1, 1], [2, 2]]\n",
      "arr2: [[3, 3], [4, 4]]\n"
     ]
    }
   ],
   "source": [
    "arr1 = [[1,1], [2,2]]\n",
    "arr2 = [[3,3], [4,4]]\n",
    "\n",
    "print('arr1:', arr1)\n",
    "print('arr2:', arr2)"
   ]
  },
  {
   "cell_type": "code",
   "execution_count": 5,
   "id": "7b94eb03-67c0-416f-9314-af004a8b15d5",
   "metadata": {},
   "outputs": [
    {
     "data": {
      "text/plain": [
       "array([[1, 1],\n",
       "       [2, 2],\n",
       "       [3, 3],\n",
       "       [4, 4]])"
      ]
     },
     "execution_count": 5,
     "metadata": {},
     "output_type": "execute_result"
    }
   ],
   "source": [
    "np.vstack((arr1, arr2))"
   ]
  },
  {
   "cell_type": "code",
   "execution_count": 6,
   "id": "51522a18-a0ff-4713-bdff-45f4ea6448e3",
   "metadata": {},
   "outputs": [
    {
     "data": {
      "text/plain": [
       "array([[1, 1, 3, 3],\n",
       "       [2, 2, 4, 4]])"
      ]
     },
     "execution_count": 6,
     "metadata": {},
     "output_type": "execute_result"
    }
   ],
   "source": [
    "np.hstack((arr1, arr2))"
   ]
  },
  {
   "cell_type": "code",
   "execution_count": 7,
   "id": "054a0b23-83ba-4237-b5e5-1b7f8b80aa15",
   "metadata": {},
   "outputs": [
    {
     "data": {
      "text/plain": [
       "array([[ 1,  2,  3,  4,  5,  6],\n",
       "       [ 7,  8,  9, 10, 11, 12]])"
      ]
     },
     "execution_count": 7,
     "metadata": {},
     "output_type": "execute_result"
    }
   ],
   "source": [
    "arr = np.arange(1, 13).reshape(2, 6)\n",
    "arr"
   ]
  },
  {
   "cell_type": "code",
   "execution_count": 9,
   "id": "da52a21a-afa5-461f-bbcf-7ee0a31deb00",
   "metadata": {},
   "outputs": [
    {
     "data": {
      "text/plain": [
       "[array([[1, 2],\n",
       "        [7, 8]]),\n",
       " array([[ 3,  4],\n",
       "        [ 9, 10]]),\n",
       " array([[ 5,  6],\n",
       "        [11, 12]])]"
      ]
     },
     "execution_count": 9,
     "metadata": {},
     "output_type": "execute_result"
    }
   ],
   "source": [
    "np.hsplit(arr, 3)"
   ]
  },
  {
   "cell_type": "code",
   "execution_count": 11,
   "id": "a7c0806d-10fb-4487-add2-313f6280fd88",
   "metadata": {},
   "outputs": [
    {
     "data": {
      "text/plain": [
       "array([0, 1, 2, 3, 4, 5, 6, 7, 8, 9])"
      ]
     },
     "execution_count": 11,
     "metadata": {},
     "output_type": "execute_result"
    }
   ],
   "source": [
    "original = np.arange(10)\n",
    "original"
   ]
  },
  {
   "cell_type": "code",
   "execution_count": 12,
   "id": "135acfe2-8271-48f3-9406-3338da35bac5",
   "metadata": {},
   "outputs": [
    {
     "data": {
      "text/plain": [
       "array([3, 4, 5])"
      ]
     },
     "execution_count": 12,
     "metadata": {},
     "output_type": "execute_result"
    }
   ],
   "source": [
    "new_arr = original[3:6]\n",
    "new_arr"
   ]
  },
  {
   "cell_type": "code",
   "execution_count": 13,
   "id": "e39afe62-cfe0-4130-87b6-6a447b9c967e",
   "metadata": {},
   "outputs": [
    {
     "data": {
      "text/plain": [
       "array([999,   4,   5])"
      ]
     },
     "execution_count": 13,
     "metadata": {},
     "output_type": "execute_result"
    }
   ],
   "source": [
    "new_arr[0] = 999\n",
    "new_arr"
   ]
  },
  {
   "cell_type": "code",
   "execution_count": 18,
   "id": "bfc7e8ba-f70a-40fb-969b-0412fc79ffef",
   "metadata": {},
   "outputs": [],
   "source": [
    "original_2 = np.arange(10)"
   ]
  },
  {
   "cell_type": "code",
   "execution_count": 19,
   "id": "6b1d1d54-1c0f-4ecf-87da-3af8c9eee0e9",
   "metadata": {},
   "outputs": [
    {
     "data": {
      "text/plain": [
       "array([0, 1, 2, 3, 4, 5, 6, 7, 8, 9])"
      ]
     },
     "execution_count": 19,
     "metadata": {},
     "output_type": "execute_result"
    }
   ],
   "source": [
    "new_arr = original_2.copy()\n",
    "new_arr"
   ]
  },
  {
   "cell_type": "code",
   "execution_count": 20,
   "id": "061ea04f-a6e6-4cdb-8685-f93cc6e95d85",
   "metadata": {},
   "outputs": [
    {
     "data": {
      "text/plain": [
       "array([  0,   1,   2,   3,   4, 999,   6,   7,   8,   9])"
      ]
     },
     "execution_count": 20,
     "metadata": {},
     "output_type": "execute_result"
    }
   ],
   "source": [
    "new_arr[5] = 999\n",
    "new_arr"
   ]
  },
  {
   "cell_type": "code",
   "execution_count": 21,
   "id": "ee51c9ed-3161-413c-bb0a-621e1be18243",
   "metadata": {},
   "outputs": [
    {
     "data": {
      "text/plain": [
       "array([0, 1, 2, 3, 4, 5, 6, 7, 8, 9])"
      ]
     },
     "execution_count": 21,
     "metadata": {},
     "output_type": "execute_result"
    }
   ],
   "source": [
    "original_2"
   ]
  },
  {
   "cell_type": "code",
   "execution_count": null,
   "id": "8c4baed6-e125-4cee-86c3-84505ed95af9",
   "metadata": {},
   "outputs": [],
   "source": []
  }
 ],
 "metadata": {
  "kernelspec": {
   "display_name": "Python 3.13",
   "language": "python",
   "name": "python313"
  },
  "language_info": {
   "codemirror_mode": {
    "name": "ipython",
    "version": 3
   },
   "file_extension": ".py",
   "mimetype": "text/x-python",
   "name": "python",
   "nbconvert_exporter": "python",
   "pygments_lexer": "ipython3",
   "version": "3.13.0"
  }
 },
 "nbformat": 4,
 "nbformat_minor": 5
}
