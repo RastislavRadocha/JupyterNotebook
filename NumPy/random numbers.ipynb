{
 "cells": [
  {
   "cell_type": "code",
   "execution_count": 1,
   "id": "bb19ebe9-6f4b-4ae3-a6d4-d2e68c5a6c51",
   "metadata": {},
   "outputs": [],
   "source": [
    "import numpy as np"
   ]
  },
  {
   "cell_type": "code",
   "execution_count": 2,
   "id": "56ba0886-7b99-43b4-a3de-10b7e2d70ff0",
   "metadata": {},
   "outputs": [
    {
     "data": {
      "text/plain": [
       "Generator(PCG64) at 0x1BFEEBA9620"
      ]
     },
     "execution_count": 2,
     "metadata": {},
     "output_type": "execute_result"
    }
   ],
   "source": [
    "rng = np.random.default_rng()\n",
    "rng"
   ]
  },
  {
   "cell_type": "code",
   "execution_count": 3,
   "id": "8e67a5f1-e900-497c-8ee3-4d49d00ac0cd",
   "metadata": {},
   "outputs": [
    {
     "data": {
      "text/plain": [
       "array([[1, 2, 4, 3],\n",
       "       [1, 1, 4, 4],\n",
       "       [1, 4, 3, 1]])"
      ]
     },
     "execution_count": 3,
     "metadata": {},
     "output_type": "execute_result"
    }
   ],
   "source": [
    "rng.integers(low=1, high=5, size=(3,4)) # high= parameter is exclusive by default"
   ]
  },
  {
   "cell_type": "code",
   "execution_count": 4,
   "id": "6d85289c-c288-406a-a729-219f2a358ad9",
   "metadata": {},
   "outputs": [
    {
     "data": {
      "text/plain": [
       "array([[11, 31, 38, 27],\n",
       "       [13, 34, 34, 17],\n",
       "       [10, 47, 41, 10]])"
      ]
     },
     "execution_count": 4,
     "metadata": {},
     "output_type": "execute_result"
    }
   ],
   "source": [
    "rng.integers(low=1, high=50, size=(3,4), endpoint=True) # Makes high number inclusive"
   ]
  },
  {
   "cell_type": "code",
   "execution_count": 7,
   "id": "a2b5ed10-8f71-4760-a095-e8fa714ed65c",
   "metadata": {},
   "outputs": [
    {
     "data": {
      "text/plain": [
       "array([[[0.86381792, 0.9847359 , 0.46732625, 0.25279556],\n",
       "        [0.70603564, 0.13613299, 0.09834264, 0.06666866],\n",
       "        [0.18212339, 0.09721594, 0.91003955, 0.58191107]],\n",
       "\n",
       "       [[0.21829183, 0.3776142 , 0.36477984, 0.65183052],\n",
       "        [0.64819992, 0.66623798, 0.47227512, 0.25419902],\n",
       "        [0.24940957, 0.77809936, 0.83876998, 0.86026386]]])"
      ]
     },
     "execution_count": 7,
     "metadata": {},
     "output_type": "execute_result"
    }
   ],
   "source": [
    "rng.random(size=(2, 3, 4))"
   ]
  },
  {
   "cell_type": "code",
   "execution_count": null,
   "id": "81026c02-f854-4765-9d42-80b77842e559",
   "metadata": {},
   "outputs": [],
   "source": []
  }
 ],
 "metadata": {
  "kernelspec": {
   "display_name": "Python 3.13",
   "language": "python",
   "name": "python313"
  },
  "language_info": {
   "codemirror_mode": {
    "name": "ipython",
    "version": 3
   },
   "file_extension": ".py",
   "mimetype": "text/x-python",
   "name": "python",
   "nbconvert_exporter": "python",
   "pygments_lexer": "ipython3",
   "version": "3.13.0"
  }
 },
 "nbformat": 4,
 "nbformat_minor": 5
}
