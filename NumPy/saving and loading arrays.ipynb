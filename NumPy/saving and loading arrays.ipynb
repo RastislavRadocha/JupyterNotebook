{
 "cells": [
  {
   "cell_type": "code",
   "execution_count": 1,
   "id": "757bebfe-0378-4624-a84e-85718043c439",
   "metadata": {},
   "outputs": [],
   "source": [
    "import numpy as np"
   ]
  },
  {
   "cell_type": "code",
   "execution_count": 2,
   "id": "afed050f-7781-4919-ad27-c8ec1786e8ac",
   "metadata": {},
   "outputs": [
    {
     "data": {
      "text/plain": [
       "array([[ 1,  2,  3,  4,  5,  6],\n",
       "       [ 7,  8,  9, 10, 11, 12]])"
      ]
     },
     "execution_count": 2,
     "metadata": {},
     "output_type": "execute_result"
    }
   ],
   "source": [
    "arr = np.array([[1,2,3,4,5,6],\n",
    "               [7,8,9,10,11,12]])\n",
    "arr"
   ]
  },
  {
   "cell_type": "code",
   "execution_count": 3,
   "id": "808a62da-8f16-45b4-9841-7635a9bddfed",
   "metadata": {},
   "outputs": [],
   "source": [
    "np.save('my_array.npy', arr) # Will save with the specified name, in this folder"
   ]
  },
  {
   "cell_type": "code",
   "execution_count": 4,
   "id": "d299a089-bae1-4ed3-a6c0-0cd48c70cc7c",
   "metadata": {},
   "outputs": [
    {
     "data": {
      "text/plain": [
       "array([[ 1,  2,  3,  4,  5,  6],\n",
       "       [ 7,  8,  9, 10, 11, 12]])"
      ]
     },
     "execution_count": 4,
     "metadata": {},
     "output_type": "execute_result"
    }
   ],
   "source": [
    "np.load('my_array.npy')"
   ]
  },
  {
   "cell_type": "code",
   "execution_count": 7,
   "id": "793e72f2-f7c1-48ad-b37a-c07e57b400a8",
   "metadata": {},
   "outputs": [],
   "source": [
    "my_array1 = np.array([1, 2, 3])\n",
    "my_array2 = np.array([[4, 5], [6, 7]])"
   ]
  },
  {
   "cell_type": "code",
   "execution_count": 8,
   "id": "80b33dd2-0bd4-4214-b511-9d9ae5b2ade4",
   "metadata": {},
   "outputs": [],
   "source": [
    "np.savez('multiple_arrays.npz', array1=my_array1, array2=my_array2 )"
   ]
  },
  {
   "cell_type": "code",
   "execution_count": 12,
   "id": "30db0106-5282-4bd1-b346-5a850b26fe1b",
   "metadata": {},
   "outputs": [
    {
     "data": {
      "text/plain": [
       "array([[4, 5],\n",
       "       [6, 7]])"
      ]
     },
     "execution_count": 12,
     "metadata": {},
     "output_type": "execute_result"
    }
   ],
   "source": [
    "loaded = np.load('multiple_arrays.npz)"
   ]
  },
  {
   "cell_type": "code",
   "execution_count": 13,
   "id": "1f728584-fdfa-471a-800e-9d5162ad12fe",
   "metadata": {},
   "outputs": [
    {
     "data": {
      "text/plain": [
       "array([1, 2, 3])"
      ]
     },
     "execution_count": 13,
     "metadata": {},
     "output_type": "execute_result"
    }
   ],
   "source": [
    "loaded['array1']"
   ]
  },
  {
   "cell_type": "code",
   "execution_count": 14,
   "id": "8243f2e1-50b2-41c8-b7c5-a540ecf1f706",
   "metadata": {},
   "outputs": [
    {
     "data": {
      "text/plain": [
       "array([[4, 5],\n",
       "       [6, 7]])"
      ]
     },
     "execution_count": 14,
     "metadata": {},
     "output_type": "execute_result"
    }
   ],
   "source": [
    "loaded['array2']"
   ]
  },
  {
   "cell_type": "code",
   "execution_count": 16,
   "id": "9ef1c23f-991a-4329-a74e-d111b86940c8",
   "metadata": {},
   "outputs": [],
   "source": [
    "np.savetxt('text_array.txt', arr)"
   ]
  },
  {
   "cell_type": "code",
   "execution_count": 17,
   "id": "8e58f5f8-9f6a-47a8-9faf-ab8607378e5b",
   "metadata": {},
   "outputs": [
    {
     "data": {
      "text/plain": [
       "array([[ 1.,  2.,  3.,  4.,  5.,  6.],\n",
       "       [ 7.,  8.,  9., 10., 11., 12.]])"
      ]
     },
     "execution_count": 17,
     "metadata": {},
     "output_type": "execute_result"
    }
   ],
   "source": [
    "np.loadtxt('text_array.csv')"
   ]
  },
  {
   "cell_type": "code",
   "execution_count": 18,
   "id": "bd9c23ce-17a7-4e9e-b93f-bea41f9c6a56",
   "metadata": {},
   "outputs": [
    {
     "data": {
      "text/plain": [
       "array([[ 1.,  2.,  3.,  4.,  5.,  6.],\n",
       "       [ 7.,  8.,  9., 10., 11., 12.]])"
      ]
     },
     "execution_count": 18,
     "metadata": {},
     "output_type": "execute_result"
    }
   ],
   "source": [
    "np.loadtxt('text_array.txt')"
   ]
  },
  {
   "cell_type": "code",
   "execution_count": null,
   "id": "d1ebc55a-a4bc-42ab-9aa3-f364ecd9d896",
   "metadata": {},
   "outputs": [],
   "source": []
  }
 ],
 "metadata": {
  "kernelspec": {
   "display_name": "Python 3.13",
   "language": "python",
   "name": "python313"
  },
  "language_info": {
   "codemirror_mode": {
    "name": "ipython",
    "version": 3
   },
   "file_extension": ".py",
   "mimetype": "text/x-python",
   "name": "python",
   "nbconvert_exporter": "python",
   "pygments_lexer": "ipython3",
   "version": "3.13.0"
  }
 },
 "nbformat": 4,
 "nbformat_minor": 5
}
