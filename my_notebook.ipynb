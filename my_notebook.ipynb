{
 "cells": [
  {
   "cell_type": "code",
   "execution_count": 13,
   "id": "2dcaa7cb-8ed1-4749-ba9d-6d4b2a68f2a2",
   "metadata": {},
   "outputs": [],
   "source": [
    "import pandas as pd"
   ]
  },
  {
   "cell_type": "code",
   "execution_count": 15,
   "id": "eef87cc5-dcea-493e-9361-eb86f677226d",
   "metadata": {},
   "outputs": [],
   "source": [
    "numbers = [1, 2, 3, 4, 5]"
   ]
  },
  {
   "cell_type": "code",
   "execution_count": 16,
   "id": "a7fe84e8-317f-4050-9a21-65d4516039ec",
   "metadata": {},
   "outputs": [
    {
     "data": {
      "text/plain": [
       "0    1\n",
       "1    2\n",
       "2    3\n",
       "3    4\n",
       "4    5\n",
       "dtype: int64"
      ]
     },
     "execution_count": 16,
     "metadata": {},
     "output_type": "execute_result"
    }
   ],
   "source": [
    "pd.Series(numbers) # Shift + Tab for documentation"
   ]
  },
  {
   "cell_type": "code",
   "execution_count": 23,
   "id": "791e7ab1-3383-4427-b1b4-6c32fdde7512",
   "metadata": {},
   "outputs": [],
   "source": [
    "letters = ['a', 'b', 'c', 'd', 'e']"
   ]
  },
  {
   "cell_type": "code",
   "execution_count": 24,
   "id": "383766f2-f78d-4b55-ab89-ab9cad411525",
   "metadata": {},
   "outputs": [
    {
     "data": {
      "text/plain": [
       "a    1\n",
       "b    2\n",
       "c    3\n",
       "d    4\n",
       "e    5\n",
       "dtype: int64"
      ]
     },
     "execution_count": 24,
     "metadata": {},
     "output_type": "execute_result"
    }
   ],
   "source": [
    "pd.Series(data=numbers, index=letters) # Index can be any data typed"
   ]
  },
  {
   "cell_type": "code",
   "execution_count": 26,
   "id": "31ba1eff-5456-47bb-8d96-27eea8b919db",
   "metadata": {},
   "outputs": [
    {
     "data": {
      "text/plain": [
       "letter 1    a\n",
       "letter 2    b\n",
       "letter 3    c\n",
       "letter 4    d\n",
       "letter 5    e\n",
       "dtype: object"
      ]
     },
     "execution_count": 26,
     "metadata": {},
     "output_type": "execute_result"
    }
   ],
   "source": [
    "pd.Series(data = letters, index = ['letter 1', 'letter 2', 'letter 3', 'letter 4', 'letter 5'])"
   ]
  },
  {
   "cell_type": "code",
   "execution_count": 27,
   "id": "41aa7643-d5ea-42aa-b326-c5207dfaee17",
   "metadata": {},
   "outputs": [],
   "source": [
    "data = {'name': 'Luigi', 'age':26, 'work': 'Unemployed'}"
   ]
  },
  {
   "cell_type": "code",
   "execution_count": 28,
   "id": "4e2929f1-599b-49f3-8149-9518332deb97",
   "metadata": {},
   "outputs": [
    {
     "data": {
      "text/plain": [
       "name         Luigi\n",
       "age             26\n",
       "work    Unemployed\n",
       "dtype: object"
      ]
     },
     "execution_count": 28,
     "metadata": {},
     "output_type": "execute_result"
    }
   ],
   "source": [
    "pd.Series(data=data)"
   ]
  },
  {
   "cell_type": "code",
   "execution_count": 29,
   "id": "4c36734e-b5a9-4b9b-b315-068106574862",
   "metadata": {},
   "outputs": [
    {
     "data": {
      "text/plain": [
       "name    Luigi\n",
       "age        26\n",
       "job       NaN\n",
       "dtype: object"
      ]
     },
     "execution_count": 29,
     "metadata": {},
     "output_type": "execute_result"
    }
   ],
   "source": [
    "pd.Series(data=data, index=['name', 'age', 'job'])"
   ]
  }
 ],
 "metadata": {
  "kernelspec": {
   "display_name": "Python 3 (ipykernel)",
   "language": "python",
   "name": "python3"
  },
  "language_info": {
   "codemirror_mode": {
    "name": "ipython",
    "version": 3
   },
   "file_extension": ".py",
   "mimetype": "text/x-python",
   "name": "python",
   "nbconvert_exporter": "python",
   "pygments_lexer": "ipython3",
   "version": "3.12.4"
  }
 },
 "nbformat": 4,
 "nbformat_minor": 5
}
