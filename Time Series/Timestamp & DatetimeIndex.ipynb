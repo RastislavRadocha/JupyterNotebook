{
 "cells": [
  {
   "cell_type": "code",
   "execution_count": 50,
   "id": "ec293f57-ce3f-4749-ba80-f182e2a7571c",
   "metadata": {},
   "outputs": [
    {
     "name": "stdout",
     "output_type": "stream",
     "text": [
      "2.2.3\n"
     ]
    }
   ],
   "source": [
    "import pandas as pd\n",
    "print(pd.__version__)"
   ]
  },
  {
   "cell_type": "markdown",
   "id": "76bd8160-bc2d-4fac-9e1c-fad2de773be9",
   "metadata": {},
   "source": [
    "Timestamp represents a single instant in time"
   ]
  },
  {
   "cell_type": "code",
   "execution_count": 26,
   "id": "71697c87-41d2-4002-a706-13e7efef16c5",
   "metadata": {},
   "outputs": [
    {
     "data": {
      "text/plain": [
       "Timestamp('2001-12-21 00:00:00')"
      ]
     },
     "execution_count": 26,
     "metadata": {},
     "output_type": "execute_result"
    }
   ],
   "source": [
    "pd.Timestamp('21-12-01') # Creating a Timestamp (check the arguments)"
   ]
  },
  {
   "cell_type": "code",
   "execution_count": 27,
   "id": "b01eb7f5-b1af-4190-b6c3-f708f5e78394",
   "metadata": {},
   "outputs": [],
   "source": [
    "def display_timestamp(text_input: str):\n",
    "    print(pd.Timestamp(text_input))"
   ]
  },
  {
   "cell_type": "code",
   "execution_count": 28,
   "id": "35a6746d-4703-49fa-87fe-8bff216cc26d",
   "metadata": {},
   "outputs": [
    {
     "name": "stdout",
     "output_type": "stream",
     "text": [
      "2021-12-01 00:00:00\n",
      "2021-12-01 00:00:00\n",
      "2021-12-01 00:00:00\n",
      "2021-12-01 00:00:00\n"
     ]
    }
   ],
   "source": [
    "display_timestamp('2021-12-01')\n",
    "display_timestamp('2021.12.01')\n",
    "display_timestamp('2021/12/01')\n",
    "display_timestamp('2021 Dec 01')"
   ]
  },
  {
   "cell_type": "code",
   "execution_count": 29,
   "id": "574952d4-c8aa-4a5a-9682-cdb101cfb2d6",
   "metadata": {},
   "outputs": [
    {
     "data": {
      "text/plain": [
       "Timestamp('2023-07-21 09:01:54.960196')"
      ]
     },
     "execution_count": 29,
     "metadata": {},
     "output_type": "execute_result"
    }
   ],
   "source": [
    "pd.Timestamp(1689930114960196000) # nanoseconds since 1970"
   ]
  },
  {
   "cell_type": "code",
   "execution_count": 30,
   "id": "1f4b2e69-83a2-4e08-8c50-2a921c7a05a1",
   "metadata": {},
   "outputs": [
    {
     "data": {
      "text/plain": [
       "Timestamp('1970-01-01 00:02:48.993011496')"
      ]
     },
     "execution_count": 30,
     "metadata": {},
     "output_type": "execute_result"
    }
   ],
   "source": [
    "pd.Timestamp(168993011496.0196000)"
   ]
  },
  {
   "cell_type": "code",
   "execution_count": 31,
   "id": "9fedbc54-b03b-4e8a-a94e-2eac1a256a0e",
   "metadata": {},
   "outputs": [
    {
     "data": {
      "text/plain": [
       "Timestamp('2025-12-05 10:10:10')"
      ]
     },
     "execution_count": 31,
     "metadata": {},
     "output_type": "execute_result"
    }
   ],
   "source": [
    "pd.Timestamp(2025, 12, 5, 10, 10, 10)"
   ]
  },
  {
   "cell_type": "code",
   "execution_count": 32,
   "id": "72b595bc-5be1-4d51-8c0b-2ddad50e9776",
   "metadata": {},
   "outputs": [
    {
     "data": {
      "text/plain": [
       "Timestamp('2025-12-05 10:10:10')"
      ]
     },
     "execution_count": 32,
     "metadata": {},
     "output_type": "execute_result"
    }
   ],
   "source": [
    "pd.Timestamp(year=2025, month=12, day=5, hour=10, minute=10, second=10)"
   ]
  },
  {
   "cell_type": "code",
   "execution_count": 33,
   "id": "fafb336c-7fe3-4df1-a934-27e010f046cd",
   "metadata": {},
   "outputs": [],
   "source": [
    "def display_result(input_text: str):\n",
    "    print(pd.to_datetime(input_text))"
   ]
  },
  {
   "cell_type": "code",
   "execution_count": 34,
   "id": "3b76b382-28cd-4bba-9ec7-faeb9e74d402",
   "metadata": {},
   "outputs": [
    {
     "name": "stdout",
     "output_type": "stream",
     "text": [
      "2025-12-01 00:00:00\n",
      "2023-07-21 09:01:54.960196\n"
     ]
    }
   ],
   "source": [
    "display_result('2025.12.01')\n",
    "display_result(1689930114960196000)"
   ]
  },
  {
   "cell_type": "code",
   "execution_count": 35,
   "id": "dcd0b6b7-9f03-4618-b1b5-229c09a2abf7",
   "metadata": {},
   "outputs": [
    {
     "data": {
      "text/plain": [
       "DatetimeIndex(['2025-10-25', '2025-01-13'], dtype='datetime64[ns]', freq=None)"
      ]
     },
     "execution_count": 35,
     "metadata": {},
     "output_type": "execute_result"
    }
   ],
   "source": [
    "pd.to_datetime(['2025.10.25', '2025.01.13'])"
   ]
  },
  {
   "cell_type": "code",
   "execution_count": 53,
   "id": "5d151b58-4577-4eb1-a1d1-f76e988c58c7",
   "metadata": {},
   "outputs": [
    {
     "data": {
      "text/plain": [
       "Timestamp('2025-05-25 20:20:00')"
      ]
     },
     "execution_count": 53,
     "metadata": {},
     "output_type": "execute_result"
    }
   ],
   "source": [
    "pd.to_datetime('20:20')"
   ]
  },
  {
   "cell_type": "code",
   "execution_count": 56,
   "id": "06a9928c-86bb-4ff5-8f2f-3695471b3717",
   "metadata": {},
   "outputs": [
    {
     "name": "stderr",
     "output_type": "stream",
     "text": [
      "C:\\Users\\skill\\AppData\\Local\\Temp\\ipykernel_19708\\585327103.py:1: FutureWarning: errors='ignore' is deprecated and will raise in a future version. Use to_datetime without passing `errors` and catch exceptions explicitly instead\n",
      "  pd.to_datetime(['1997.01.01', '2025.99.10'], errors='ignore')\n"
     ]
    },
    {
     "data": {
      "text/plain": [
       "Index(['1997.01.01', '2025.99.10'], dtype='object')"
      ]
     },
     "execution_count": 56,
     "metadata": {},
     "output_type": "execute_result"
    }
   ],
   "source": [
    "pd.to_datetime(['1997.01.01', '2025.99.10'], errors='ignore')"
   ]
  },
  {
   "cell_type": "code",
   "execution_count": null,
   "id": "2ab9ed57-21ed-455c-b80e-b5214e41316b",
   "metadata": {},
   "outputs": [],
   "source": []
  }
 ],
 "metadata": {
  "kernelspec": {
   "display_name": "Python 3.13",
   "language": "python",
   "name": "python313"
  },
  "language_info": {
   "codemirror_mode": {
    "name": "ipython",
    "version": 3
   },
   "file_extension": ".py",
   "mimetype": "text/x-python",
   "name": "python",
   "nbconvert_exporter": "python",
   "pygments_lexer": "ipython3",
   "version": "3.13.0"
  }
 },
 "nbformat": 4,
 "nbformat_minor": 5
}
