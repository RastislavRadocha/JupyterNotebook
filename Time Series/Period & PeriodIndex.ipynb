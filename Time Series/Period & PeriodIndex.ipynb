{
 "cells": [
  {
   "cell_type": "code",
   "execution_count": 1,
   "id": "70fd6382-2093-4923-8dc1-cb72bb40839b",
   "metadata": {},
   "outputs": [],
   "source": [
    "import pandas as pd"
   ]
  },
  {
   "cell_type": "markdown",
   "id": "7d2feb43-fd9d-46b6-9173-114e12f19f21",
   "metadata": {},
   "source": [
    "Timestamps are a specific moment"
   ]
  },
  {
   "cell_type": "code",
   "execution_count": 2,
   "id": "fa9a1cc4-49e3-488b-83b8-1dbdb72a63ca",
   "metadata": {},
   "outputs": [
    {
     "data": {
      "text/plain": [
       "Timestamp('2025-12-01 00:00:00')"
      ]
     },
     "execution_count": 2,
     "metadata": {},
     "output_type": "execute_result"
    }
   ],
   "source": [
    "pd.Timestamp('2025-12-01') # Refers to an exact date (by default Midnight precisely)"
   ]
  },
  {
   "cell_type": "markdown",
   "id": "8536e34c-6f36-415a-a1c2-7a2a6ba54591",
   "metadata": {},
   "source": [
    "Periods represent a general timeframe"
   ]
  },
  {
   "cell_type": "code",
   "execution_count": 4,
   "id": "f92073e6-7f64-4d06-b047-d9c176fd565e",
   "metadata": {},
   "outputs": [
    {
     "data": {
      "text/plain": [
       "Period('2025-12-01', 'D')"
      ]
     },
     "execution_count": 4,
     "metadata": {},
     "output_type": "execute_result"
    }
   ],
   "source": [
    "pd.Period('2025-12-01') # Refers to an entire day of that date (24 hours)"
   ]
  },
  {
   "cell_type": "code",
   "execution_count": 7,
   "id": "dc590cdc-3461-4469-ba7d-869371436193",
   "metadata": {},
   "outputs": [
    {
     "data": {
      "text/plain": [
       "PeriodIndex(['2025-01', '2025-02', '2025-03', '2025-04', '2025-05', '2025-06',\n",
       "             '2025-07', '2025-08', '2025-09', '2025-10', '2025-11', '2025-12'],\n",
       "            dtype='period[M]')"
      ]
     },
     "execution_count": 7,
     "metadata": {},
     "output_type": "execute_result"
    }
   ],
   "source": [
    "pd.period_range(start='2025-01-01', end='2025-12-31', freq='M')"
   ]
  },
  {
   "cell_type": "code",
   "execution_count": 8,
   "id": "013c4ec0-c52e-434c-9b27-cb4a0731d192",
   "metadata": {},
   "outputs": [
    {
     "data": {
      "text/plain": [
       "DatetimeIndex(['2025-01-01', '2025-01-02', '2025-01-03', '2025-01-04',\n",
       "               '2025-01-05', '2025-01-06', '2025-01-07', '2025-01-08',\n",
       "               '2025-01-09', '2025-01-10',\n",
       "               ...\n",
       "               '2025-12-22', '2025-12-23', '2025-12-24', '2025-12-25',\n",
       "               '2025-12-26', '2025-12-27', '2025-12-28', '2025-12-29',\n",
       "               '2025-12-30', '2025-12-31'],\n",
       "              dtype='datetime64[ns]', length=365, freq='D')"
      ]
     },
     "execution_count": 8,
     "metadata": {},
     "output_type": "execute_result"
    }
   ],
   "source": [
    "pd.period_range(start='2025-01-01', end='2025-12-31').to_timestamp()"
   ]
  },
  {
   "cell_type": "code",
   "execution_count": 9,
   "id": "4afc1919-bb17-46b3-9486-1c4e2f914f40",
   "metadata": {},
   "outputs": [
    {
     "data": {
      "text/plain": [
       "PeriodIndex(['2025-01-01', '2025-01-02', '2025-01-03', '2025-01-04',\n",
       "             '2025-01-05', '2025-01-06', '2025-01-07', '2025-01-08',\n",
       "             '2025-01-09', '2025-01-10',\n",
       "             ...\n",
       "             '2025-12-22', '2025-12-23', '2025-12-24', '2025-12-25',\n",
       "             '2025-12-26', '2025-12-27', '2025-12-28', '2025-12-29',\n",
       "             '2025-12-30', '2025-12-31'],\n",
       "            dtype='period[D]', length=365)"
      ]
     },
     "execution_count": 9,
     "metadata": {},
     "output_type": "execute_result"
    }
   ],
   "source": [
    "pd.date_range(start='2025-01-01', end='2025-12-31').to_period()"
   ]
  },
  {
   "cell_type": "code",
   "execution_count": null,
   "id": "15a0dcca-7c6b-40b7-aa09-e579659a5ae4",
   "metadata": {},
   "outputs": [],
   "source": []
  }
 ],
 "metadata": {
  "kernelspec": {
   "display_name": "Python 3.13",
   "language": "python",
   "name": "python313"
  },
  "language_info": {
   "codemirror_mode": {
    "name": "ipython",
    "version": 3
   },
   "file_extension": ".py",
   "mimetype": "text/x-python",
   "name": "python",
   "nbconvert_exporter": "python",
   "pygments_lexer": "ipython3",
   "version": "3.13.0"
  }
 },
 "nbformat": 4,
 "nbformat_minor": 5
}
